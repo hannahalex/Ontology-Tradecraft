{
 "cells": [
  {
   "cell_type": "code",
   "execution_count": 1,
   "id": "afeabb92",
   "metadata": {},
   "outputs": [
    {
     "name": "stdout",
     "output_type": "stream",
     "text": [
      "3.11.9 (tags/v3.11.9:de54cf5, Apr  2 2024, 10:12:12) [MSC v.1938 64 bit (AMD64)]\n"
     ]
    }
   ],
   "source": [
    "import sys\n",
    "print(sys.version)"
   ]
  },
  {
   "cell_type": "code",
   "execution_count": 2,
   "id": "87611538",
   "metadata": {},
   "outputs": [
    {
     "name": "stdout",
     "output_type": "stream",
     "text": [
      "rdflib: 7.1.4\n",
      "SPARQLWrapper: 2.0.0\n",
      "pyshacl: 0.30.1\n"
     ]
    }
   ],
   "source": [
    "import rdflib\n",
    "import SPARQLWrapper\n",
    "import pyshacl\n",
    "\n",
    "print(\"rdflib:\", rdflib.__version__)\n",
    "print(\"SPARQLWrapper:\", SPARQLWrapper.__version__)\n",
    "# pyshacl has __version__ on the package, not module attribute in some versions:\n",
    "try:\n",
    "    import pyshacl\n",
    "    print(\"pyshacl:\", getattr(pyshacl, \"__version__\", \"installed\"))\n",
    "except Exception as e:\n",
    "    print(\"pyshacl import error:\", e)\n"
   ]
  },
  {
   "cell_type": "code",
   "execution_count": 3,
   "id": "d02f7d8e",
   "metadata": {},
   "outputs": [
    {
     "name": "stdout",
     "output_type": "stream",
     "text": [
      "Using TTL at: c:\\Users\\davin\\UB\\PHD\\fall25\\Ontology-Tradecraft\\projects\\project-1\\assignment\\notebooks\\sample.ttl\n",
      "Triple count: 2\n"
     ]
    }
   ],
   "source": [
    "from pathlib import Path\n",
    "import rdflib\n",
    "\n",
    "# Look in all sensible spots:\n",
    "candidates = [\n",
    "    Path.cwd() / \"sample.ttl\",                      # projects/project-1/assignment/sample.ttl\n",
    "    Path.cwd() / \"notebooks\" / \"sample.ttl\",        # projects/project-1/assignment/notebooks/sample.ttl\n",
    "    Path.cwd().parent / \"notebooks\" / \"sample.ttl\", # projects/project-1/notebooks/sample.ttl\n",
    "]\n",
    "\n",
    "ttl_path = next((p for p in candidates if p.exists()), None)\n",
    "if ttl_path is None:\n",
    "    raise FileNotFoundError(f\"sample.ttl not found in any of: {candidates}\")\n",
    "\n",
    "print(f\"Using TTL at: {ttl_path}\")\n",
    "g = rdflib.Graph()\n",
    "g.parse(str(ttl_path), format=\"turtle\")\n",
    "print(\"Triple count:\", len(g))\n"
   ]
  }
 ],
 "metadata": {
  "kernelspec": {
   "display_name": "Python 3",
   "language": "python",
   "name": "python3"
  },
  "language_info": {
   "codemirror_mode": {
    "name": "ipython",
    "version": 3
   },
   "file_extension": ".py",
   "mimetype": "text/x-python",
   "name": "python",
   "nbconvert_exporter": "python",
   "pygments_lexer": "ipython3",
   "version": "3.11.9"
  }
 },
 "nbformat": 4,
 "nbformat_minor": 5
}
